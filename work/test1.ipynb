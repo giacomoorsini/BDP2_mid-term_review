{
 "cells": [
  {
   "cell_type": "code",
   "execution_count": 1,
   "id": "96acde44-9ebb-4a35-bd74-62b11a6d500e",
   "metadata": {},
   "outputs": [],
   "source": [
    "import redis"
   ]
  },
  {
   "cell_type": "code",
   "execution_count": 2,
   "id": "c30d0f41-e48e-495d-bab3-8761eb953cb8",
   "metadata": {},
   "outputs": [],
   "source": [
    "r = redis.Redis(host='my_redis')"
   ]
  },
  {
   "cell_type": "code",
   "execution_count": 3,
   "id": "3749c019-be11-4238-8c2c-986891d9edfa",
   "metadata": {},
   "outputs": [
    {
     "data": {
      "text/plain": [
       "True"
      ]
     },
     "execution_count": 3,
     "metadata": {},
     "output_type": "execute_result"
    }
   ],
   "source": [
    "r.set('temperature', 18.5)\n"
   ]
  },
  {
   "cell_type": "code",
   "execution_count": null,
   "id": "70061706-8a8a-4a9e-b53a-e5492184e716",
   "metadata": {},
   "outputs": [],
   "source": []
  }
 ],
 "metadata": {
  "kernelspec": {
   "display_name": "Python 3 (ipykernel)",
   "language": "python",
   "name": "python3"
  },
  "language_info": {
   "codemirror_mode": {
    "name": "ipython",
    "version": 3
   },
   "file_extension": ".py",
   "mimetype": "text/x-python",
   "name": "python",
   "nbconvert_exporter": "python",
   "pygments_lexer": "ipython3",
   "version": "3.11.4"
  }
 },
 "nbformat": 4,
 "nbformat_minor": 5
}
